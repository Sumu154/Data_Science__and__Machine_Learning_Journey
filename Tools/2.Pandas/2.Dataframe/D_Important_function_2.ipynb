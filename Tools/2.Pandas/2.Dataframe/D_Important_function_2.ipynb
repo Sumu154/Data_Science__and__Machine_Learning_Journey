{
 "cells": [
  {
   "cell_type": "markdown",
   "id": "40aeb087",
   "metadata": {},
   "source": [
    "### More Important Functions 2"
   ]
  },
  {
   "cell_type": "code",
   "execution_count": 51,
   "id": "6d80977d",
   "metadata": {},
   "outputs": [],
   "source": [
    "# isnull/notnull/hasnans\n",
    "# dropna\n",
    "# fillna\n",
    "# drop_duplicates\n",
    "# drop\n",
    "# apply\n",
    "# isin\n",
    "# corr\n",
    "# nlargest -> nsmallest\n",
    "# insert\n",
    "# copy"
   ]
  },
  {
   "cell_type": "code",
   "execution_count": 52,
   "id": "4a8f9d59",
   "metadata": {},
   "outputs": [],
   "source": [
    "import numpy as np\n",
    "import pandas as pd"
   ]
  },
  {
   "cell_type": "markdown",
   "id": "1335fcf2",
   "metadata": {},
   "source": [
    "#### 1. isnull/notnull/hasnans(series + dataframe)"
   ]
  },
  {
   "cell_type": "code",
   "execution_count": 53,
   "id": "5a52b10e",
   "metadata": {},
   "outputs": [
    {
     "data": {
      "text/html": [
       "<div>\n",
       "<style scoped>\n",
       "    .dataframe tbody tr th:only-of-type {\n",
       "        vertical-align: middle;\n",
       "    }\n",
       "\n",
       "    .dataframe tbody tr th {\n",
       "        vertical-align: top;\n",
       "    }\n",
       "\n",
       "    .dataframe thead th {\n",
       "        text-align: right;\n",
       "    }\n",
       "</style>\n",
       "<table border=\"1\" class=\"dataframe\">\n",
       "  <thead>\n",
       "    <tr style=\"text-align: right;\">\n",
       "      <th></th>\n",
       "      <th>name</th>\n",
       "      <th>college</th>\n",
       "      <th>branch</th>\n",
       "      <th>cgpa</th>\n",
       "      <th>package</th>\n",
       "    </tr>\n",
       "  </thead>\n",
       "  <tbody>\n",
       "    <tr>\n",
       "      <th>0</th>\n",
       "      <td>nitish</td>\n",
       "      <td>bit</td>\n",
       "      <td>eee</td>\n",
       "      <td>6.66</td>\n",
       "      <td>4.0</td>\n",
       "    </tr>\n",
       "    <tr>\n",
       "      <th>1</th>\n",
       "      <td>ankit</td>\n",
       "      <td>iit</td>\n",
       "      <td>it</td>\n",
       "      <td>8.25</td>\n",
       "      <td>5.0</td>\n",
       "    </tr>\n",
       "    <tr>\n",
       "      <th>2</th>\n",
       "      <td>rupesh</td>\n",
       "      <td>vit</td>\n",
       "      <td>cse</td>\n",
       "      <td>6.41</td>\n",
       "      <td>6.0</td>\n",
       "    </tr>\n",
       "    <tr>\n",
       "      <th>3</th>\n",
       "      <td>NaN</td>\n",
       "      <td>NaN</td>\n",
       "      <td>NaN</td>\n",
       "      <td>NaN</td>\n",
       "      <td>NaN</td>\n",
       "    </tr>\n",
       "    <tr>\n",
       "      <th>4</th>\n",
       "      <td>mrityunjay</td>\n",
       "      <td>NaN</td>\n",
       "      <td>me</td>\n",
       "      <td>5.60</td>\n",
       "      <td>6.0</td>\n",
       "    </tr>\n",
       "    <tr>\n",
       "      <th>5</th>\n",
       "      <td>NaN</td>\n",
       "      <td>vlsi</td>\n",
       "      <td>ce</td>\n",
       "      <td>9.00</td>\n",
       "      <td>7.0</td>\n",
       "    </tr>\n",
       "    <tr>\n",
       "      <th>6</th>\n",
       "      <td>rishabh</td>\n",
       "      <td>ssit</td>\n",
       "      <td>civ</td>\n",
       "      <td>7.40</td>\n",
       "      <td>8.0</td>\n",
       "    </tr>\n",
       "    <tr>\n",
       "      <th>7</th>\n",
       "      <td>NaN</td>\n",
       "      <td>NaN</td>\n",
       "      <td>cse</td>\n",
       "      <td>10.00</td>\n",
       "      <td>9.0</td>\n",
       "    </tr>\n",
       "    <tr>\n",
       "      <th>8</th>\n",
       "      <td>aditya</td>\n",
       "      <td>NaN</td>\n",
       "      <td>bio</td>\n",
       "      <td>7.40</td>\n",
       "      <td>NaN</td>\n",
       "    </tr>\n",
       "    <tr>\n",
       "      <th>9</th>\n",
       "      <td>NaN</td>\n",
       "      <td>git</td>\n",
       "      <td>NaN</td>\n",
       "      <td>NaN</td>\n",
       "      <td>NaN</td>\n",
       "    </tr>\n",
       "  </tbody>\n",
       "</table>\n",
       "</div>"
      ],
      "text/plain": [
       "         name college branch   cgpa  package\n",
       "0      nitish     bit    eee   6.66      4.0\n",
       "1       ankit     iit     it   8.25      5.0\n",
       "2      rupesh     vit    cse   6.41      6.0\n",
       "3         NaN     NaN    NaN    NaN      NaN\n",
       "4  mrityunjay     NaN     me   5.60      6.0\n",
       "5         NaN    vlsi     ce   9.00      7.0\n",
       "6     rishabh    ssit    civ   7.40      8.0\n",
       "7         NaN     NaN    cse  10.00      9.0\n",
       "8      aditya     NaN    bio   7.40      NaN\n",
       "9         NaN     git    NaN    NaN      NaN"
      ]
     },
     "execution_count": 53,
     "metadata": {},
     "output_type": "execute_result"
    }
   ],
   "source": [
    "# with null values\n",
    "students = pd.DataFrame(\n",
    "  {\n",
    "    'name':['nitish','ankit','rupesh',np.nan,'mrityunjay',np.nan,'rishabh',np.nan,'aditya',np.nan],\n",
    "    'college':['bit','iit','vit',np.nan,np.nan,'vlsi','ssit',np.nan,np.nan,'git'],\n",
    "    'branch':['eee','it','cse',np.nan,'me','ce','civ','cse','bio',np.nan],\n",
    "    'cgpa':[6.66,8.25,6.41,np.nan,5.6,9.0,7.4,10,7.4,np.nan],\n",
    "    'package':[4,5,6,np.nan,6,7,8,9,np.nan,np.nan]\n",
    "\n",
    "  }\n",
    ")\n",
    "\n",
    "students"
   ]
  },
  {
   "cell_type": "code",
   "execution_count": 54,
   "id": "13e1d4ee",
   "metadata": {},
   "outputs": [
    {
     "data": {
      "text/plain": [
       "3    NaN\n",
       "5    NaN\n",
       "7    NaN\n",
       "9    NaN\n",
       "Name: name, dtype: object"
      ]
     },
     "execution_count": 54,
     "metadata": {},
     "output_type": "execute_result"
    }
   ],
   "source": [
    "# null student gula dibe -> in series\n",
    "students['name'].isnull()\n",
    "students['name'][students['name'].isnull()]"
   ]
  },
  {
   "cell_type": "code",
   "execution_count": 55,
   "id": "67cc20f1",
   "metadata": {},
   "outputs": [
    {
     "data": {
      "text/html": [
       "<div>\n",
       "<style scoped>\n",
       "    .dataframe tbody tr th:only-of-type {\n",
       "        vertical-align: middle;\n",
       "    }\n",
       "\n",
       "    .dataframe tbody tr th {\n",
       "        vertical-align: top;\n",
       "    }\n",
       "\n",
       "    .dataframe thead th {\n",
       "        text-align: right;\n",
       "    }\n",
       "</style>\n",
       "<table border=\"1\" class=\"dataframe\">\n",
       "  <thead>\n",
       "    <tr style=\"text-align: right;\">\n",
       "      <th></th>\n",
       "      <th>name</th>\n",
       "      <th>college</th>\n",
       "      <th>branch</th>\n",
       "      <th>cgpa</th>\n",
       "      <th>package</th>\n",
       "    </tr>\n",
       "  </thead>\n",
       "  <tbody>\n",
       "    <tr>\n",
       "      <th>3</th>\n",
       "      <td>NaN</td>\n",
       "      <td>NaN</td>\n",
       "      <td>NaN</td>\n",
       "      <td>NaN</td>\n",
       "      <td>NaN</td>\n",
       "    </tr>\n",
       "    <tr>\n",
       "      <th>4</th>\n",
       "      <td>mrityunjay</td>\n",
       "      <td>NaN</td>\n",
       "      <td>me</td>\n",
       "      <td>5.6</td>\n",
       "      <td>6.0</td>\n",
       "    </tr>\n",
       "    <tr>\n",
       "      <th>5</th>\n",
       "      <td>NaN</td>\n",
       "      <td>vlsi</td>\n",
       "      <td>ce</td>\n",
       "      <td>9.0</td>\n",
       "      <td>7.0</td>\n",
       "    </tr>\n",
       "    <tr>\n",
       "      <th>7</th>\n",
       "      <td>NaN</td>\n",
       "      <td>NaN</td>\n",
       "      <td>cse</td>\n",
       "      <td>10.0</td>\n",
       "      <td>9.0</td>\n",
       "    </tr>\n",
       "    <tr>\n",
       "      <th>8</th>\n",
       "      <td>aditya</td>\n",
       "      <td>NaN</td>\n",
       "      <td>bio</td>\n",
       "      <td>7.4</td>\n",
       "      <td>NaN</td>\n",
       "    </tr>\n",
       "    <tr>\n",
       "      <th>9</th>\n",
       "      <td>NaN</td>\n",
       "      <td>git</td>\n",
       "      <td>NaN</td>\n",
       "      <td>NaN</td>\n",
       "      <td>NaN</td>\n",
       "    </tr>\n",
       "  </tbody>\n",
       "</table>\n",
       "</div>"
      ],
      "text/plain": [
       "         name college branch  cgpa  package\n",
       "3         NaN     NaN    NaN   NaN      NaN\n",
       "4  mrityunjay     NaN     me   5.6      6.0\n",
       "5         NaN    vlsi     ce   9.0      7.0\n",
       "7         NaN     NaN    cse  10.0      9.0\n",
       "8      aditya     NaN    bio   7.4      NaN\n",
       "9         NaN     git    NaN   NaN      NaN"
      ]
     },
     "execution_count": 55,
     "metadata": {},
     "output_type": "execute_result"
    }
   ],
   "source": [
    "# null student gula dibe -> in dataframe\n",
    "students.isnull()\n",
    "students[students.isnull().any(axis=1)]"
   ]
  },
  {
   "cell_type": "code",
   "execution_count": 56,
   "id": "11114608",
   "metadata": {},
   "outputs": [
    {
     "data": {
      "text/plain": [
       "0        nitish\n",
       "1         ankit\n",
       "2        rupesh\n",
       "4    mrityunjay\n",
       "6       rishabh\n",
       "8        aditya\n",
       "Name: name, dtype: object"
      ]
     },
     "execution_count": 56,
     "metadata": {},
     "output_type": "execute_result"
    }
   ],
   "source": [
    "# not null jegula dibe -> in series\n",
    "students['name'][students['name'].notnull()]"
   ]
  },
  {
   "cell_type": "code",
   "execution_count": 57,
   "id": "446768dc",
   "metadata": {},
   "outputs": [
    {
     "data": {
      "text/html": [
       "<div>\n",
       "<style scoped>\n",
       "    .dataframe tbody tr th:only-of-type {\n",
       "        vertical-align: middle;\n",
       "    }\n",
       "\n",
       "    .dataframe tbody tr th {\n",
       "        vertical-align: top;\n",
       "    }\n",
       "\n",
       "    .dataframe thead th {\n",
       "        text-align: right;\n",
       "    }\n",
       "</style>\n",
       "<table border=\"1\" class=\"dataframe\">\n",
       "  <thead>\n",
       "    <tr style=\"text-align: right;\">\n",
       "      <th></th>\n",
       "      <th>name</th>\n",
       "      <th>college</th>\n",
       "      <th>branch</th>\n",
       "      <th>cgpa</th>\n",
       "      <th>package</th>\n",
       "    </tr>\n",
       "  </thead>\n",
       "  <tbody>\n",
       "    <tr>\n",
       "      <th>0</th>\n",
       "      <td>nitish</td>\n",
       "      <td>bit</td>\n",
       "      <td>eee</td>\n",
       "      <td>6.66</td>\n",
       "      <td>4.0</td>\n",
       "    </tr>\n",
       "    <tr>\n",
       "      <th>1</th>\n",
       "      <td>ankit</td>\n",
       "      <td>iit</td>\n",
       "      <td>it</td>\n",
       "      <td>8.25</td>\n",
       "      <td>5.0</td>\n",
       "    </tr>\n",
       "    <tr>\n",
       "      <th>2</th>\n",
       "      <td>rupesh</td>\n",
       "      <td>vit</td>\n",
       "      <td>cse</td>\n",
       "      <td>6.41</td>\n",
       "      <td>6.0</td>\n",
       "    </tr>\n",
       "    <tr>\n",
       "      <th>6</th>\n",
       "      <td>rishabh</td>\n",
       "      <td>ssit</td>\n",
       "      <td>civ</td>\n",
       "      <td>7.40</td>\n",
       "      <td>8.0</td>\n",
       "    </tr>\n",
       "  </tbody>\n",
       "</table>\n",
       "</div>"
      ],
      "text/plain": [
       "      name college branch  cgpa  package\n",
       "0   nitish     bit    eee  6.66      4.0\n",
       "1    ankit     iit     it  8.25      5.0\n",
       "2   rupesh     vit    cse  6.41      6.0\n",
       "6  rishabh    ssit    civ  7.40      8.0"
      ]
     },
     "execution_count": 57,
     "metadata": {},
     "output_type": "execute_result"
    }
   ],
   "source": [
    "# not null jegula dibe -> in dataframe\n",
    "students.notnull()\n",
    "students[students.notnull().all(axis=1)]"
   ]
  },
  {
   "cell_type": "code",
   "execution_count": 58,
   "id": "cecbcac1",
   "metadata": {},
   "outputs": [
    {
     "data": {
      "text/plain": [
       "True"
      ]
     },
     "execution_count": 58,
     "metadata": {},
     "output_type": "execute_result"
    }
   ],
   "source": [
    "# hasnans(series)\n",
    "students['name'].hasnans"
   ]
  },
  {
   "cell_type": "markdown",
   "id": "1c3f44df",
   "metadata": {},
   "source": [
    "#### dropna(series + dataframe)"
   ]
  },
  {
   "cell_type": "code",
   "execution_count": 59,
   "id": "91174b11",
   "metadata": {},
   "outputs": [
    {
     "data": {
      "text/plain": [
       "0        nitish\n",
       "1         ankit\n",
       "2        rupesh\n",
       "4    mrityunjay\n",
       "6       rishabh\n",
       "8        aditya\n",
       "Name: name, dtype: object"
      ]
     },
     "execution_count": 59,
     "metadata": {},
     "output_type": "execute_result"
    }
   ],
   "source": [
    "# null drop -> in series\n",
    "students['name'].dropna()"
   ]
  },
  {
   "cell_type": "code",
   "execution_count": 60,
   "id": "763c1248",
   "metadata": {},
   "outputs": [
    {
     "data": {
      "text/html": [
       "<div>\n",
       "<style scoped>\n",
       "    .dataframe tbody tr th:only-of-type {\n",
       "        vertical-align: middle;\n",
       "    }\n",
       "\n",
       "    .dataframe tbody tr th {\n",
       "        vertical-align: top;\n",
       "    }\n",
       "\n",
       "    .dataframe thead th {\n",
       "        text-align: right;\n",
       "    }\n",
       "</style>\n",
       "<table border=\"1\" class=\"dataframe\">\n",
       "  <thead>\n",
       "    <tr style=\"text-align: right;\">\n",
       "      <th></th>\n",
       "      <th>name</th>\n",
       "      <th>college</th>\n",
       "      <th>branch</th>\n",
       "      <th>cgpa</th>\n",
       "      <th>package</th>\n",
       "    </tr>\n",
       "  </thead>\n",
       "  <tbody>\n",
       "    <tr>\n",
       "      <th>0</th>\n",
       "      <td>nitish</td>\n",
       "      <td>bit</td>\n",
       "      <td>eee</td>\n",
       "      <td>6.66</td>\n",
       "      <td>4.0</td>\n",
       "    </tr>\n",
       "    <tr>\n",
       "      <th>1</th>\n",
       "      <td>ankit</td>\n",
       "      <td>iit</td>\n",
       "      <td>it</td>\n",
       "      <td>8.25</td>\n",
       "      <td>5.0</td>\n",
       "    </tr>\n",
       "    <tr>\n",
       "      <th>2</th>\n",
       "      <td>rupesh</td>\n",
       "      <td>vit</td>\n",
       "      <td>cse</td>\n",
       "      <td>6.41</td>\n",
       "      <td>6.0</td>\n",
       "    </tr>\n",
       "    <tr>\n",
       "      <th>6</th>\n",
       "      <td>rishabh</td>\n",
       "      <td>ssit</td>\n",
       "      <td>civ</td>\n",
       "      <td>7.40</td>\n",
       "      <td>8.0</td>\n",
       "    </tr>\n",
       "  </tbody>\n",
       "</table>\n",
       "</div>"
      ],
      "text/plain": [
       "      name college branch  cgpa  package\n",
       "0   nitish     bit    eee  6.66      4.0\n",
       "1    ankit     iit     it  8.25      5.0\n",
       "2   rupesh     vit    cse  6.41      6.0\n",
       "6  rishabh    ssit    civ  7.40      8.0"
      ]
     },
     "execution_count": 60,
     "metadata": {},
     "output_type": "execute_result"
    }
   ],
   "source": [
    "# null drop -> in dataframe\n",
    "students.dropna(how='all')\n",
    "students.dropna(how='any')\n"
   ]
  },
  {
   "cell_type": "code",
   "execution_count": 61,
   "id": "55644efa",
   "metadata": {},
   "outputs": [
    {
     "data": {
      "text/html": [
       "<div>\n",
       "<style scoped>\n",
       "    .dataframe tbody tr th:only-of-type {\n",
       "        vertical-align: middle;\n",
       "    }\n",
       "\n",
       "    .dataframe tbody tr th {\n",
       "        vertical-align: top;\n",
       "    }\n",
       "\n",
       "    .dataframe thead th {\n",
       "        text-align: right;\n",
       "    }\n",
       "</style>\n",
       "<table border=\"1\" class=\"dataframe\">\n",
       "  <thead>\n",
       "    <tr style=\"text-align: right;\">\n",
       "      <th></th>\n",
       "      <th>name</th>\n",
       "      <th>college</th>\n",
       "      <th>branch</th>\n",
       "      <th>cgpa</th>\n",
       "      <th>package</th>\n",
       "    </tr>\n",
       "  </thead>\n",
       "  <tbody>\n",
       "    <tr>\n",
       "      <th>0</th>\n",
       "      <td>nitish</td>\n",
       "      <td>bit</td>\n",
       "      <td>eee</td>\n",
       "      <td>6.66</td>\n",
       "      <td>4.0</td>\n",
       "    </tr>\n",
       "    <tr>\n",
       "      <th>1</th>\n",
       "      <td>ankit</td>\n",
       "      <td>iit</td>\n",
       "      <td>it</td>\n",
       "      <td>8.25</td>\n",
       "      <td>5.0</td>\n",
       "    </tr>\n",
       "    <tr>\n",
       "      <th>2</th>\n",
       "      <td>rupesh</td>\n",
       "      <td>vit</td>\n",
       "      <td>cse</td>\n",
       "      <td>6.41</td>\n",
       "      <td>6.0</td>\n",
       "    </tr>\n",
       "    <tr>\n",
       "      <th>6</th>\n",
       "      <td>rishabh</td>\n",
       "      <td>ssit</td>\n",
       "      <td>civ</td>\n",
       "      <td>7.40</td>\n",
       "      <td>8.0</td>\n",
       "    </tr>\n",
       "  </tbody>\n",
       "</table>\n",
       "</div>"
      ],
      "text/plain": [
       "      name college branch  cgpa  package\n",
       "0   nitish     bit    eee  6.66      4.0\n",
       "1    ankit     iit     it  8.25      5.0\n",
       "2   rupesh     vit    cse  6.41      6.0\n",
       "6  rishabh    ssit    civ  7.40      8.0"
      ]
     },
     "execution_count": 61,
     "metadata": {},
     "output_type": "execute_result"
    }
   ],
   "source": [
    "# condition wise drop -> in dataframe\n",
    "students.dropna(subset=['name', 'college'])"
   ]
  },
  {
   "cell_type": "markdown",
   "id": "f00c1605",
   "metadata": {},
   "source": [
    "#### fillna(series + dataframe)"
   ]
  },
  {
   "cell_type": "code",
   "execution_count": null,
   "id": "45b8f140",
   "metadata": {},
   "outputs": [
    {
     "data": {
      "text/plain": [
       "0        nitish\n",
       "1         ankit\n",
       "2        rupesh\n",
       "3       unknown\n",
       "4    mrityunjay\n",
       "5       unknown\n",
       "6       rishabh\n",
       "7       unknown\n",
       "8        aditya\n",
       "9       unknown\n",
       "Name: name, dtype: object"
      ]
     },
     "execution_count": 62,
     "metadata": {},
     "output_type": "execute_result"
    }
   ],
   "source": [
    "# null fillup -> in series\n",
    "students['name'].fillna('unknown')"
   ]
  },
  {
   "cell_type": "code",
   "execution_count": 63,
   "id": "4ccadc5e",
   "metadata": {},
   "outputs": [
    {
     "name": "stderr",
     "output_type": "stream",
     "text": [
      "C:\\Users\\Sumaiya\\AppData\\Local\\Temp\\ipykernel_12632\\1045210735.py:3: FutureWarning: Series.fillna with 'method' is deprecated and will raise in a future version. Use obj.ffill() or obj.bfill() instead.\n",
      "  students['name'].fillna(method='bfill')\n"
     ]
    },
    {
     "data": {
      "text/plain": [
       "0        nitish\n",
       "1         ankit\n",
       "2        rupesh\n",
       "3    mrityunjay\n",
       "4    mrityunjay\n",
       "5       rishabh\n",
       "6       rishabh\n",
       "7        aditya\n",
       "8        aditya\n",
       "9           NaN\n",
       "Name: name, dtype: object"
      ]
     },
     "execution_count": 63,
     "metadata": {},
     "output_type": "execute_result"
    }
   ],
   "source": [
    "# null fill with condition -> in dataframe\n",
    "students['package'].fillna(students['package'].mean())\n",
    "students['name'].fillna(method='bfill')"
   ]
  }
 ],
 "metadata": {
  "kernelspec": {
   "display_name": "base",
   "language": "python",
   "name": "python3"
  },
  "language_info": {
   "codemirror_mode": {
    "name": "ipython",
    "version": 3
   },
   "file_extension": ".py",
   "mimetype": "text/x-python",
   "name": "python",
   "nbconvert_exporter": "python",
   "pygments_lexer": "ipython3",
   "version": "3.12.3"
  }
 },
 "nbformat": 4,
 "nbformat_minor": 5
}
