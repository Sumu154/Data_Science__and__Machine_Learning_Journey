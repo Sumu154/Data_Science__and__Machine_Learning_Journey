{
 "cells": [
  {
   "cell_type": "markdown",
   "id": "63c38228",
   "metadata": {},
   "source": [
    "## Series mthods"
   ]
  },
  {
   "cell_type": "code",
   "execution_count": 1,
   "id": "12967aff",
   "metadata": {},
   "outputs": [],
   "source": [
    "import numpy as np\n",
    "import pandas as pd"
   ]
  },
  {
   "cell_type": "code",
   "execution_count": 10,
   "id": "fbd2846a",
   "metadata": {},
   "outputs": [
    {
     "name": "stdout",
     "output_type": "stream",
     "text": [
      "movie\n",
      "Uri: The Surgical Strike                   Vicky Kaushal\n",
      "Battalion 609                                Vicky Ahuja\n",
      "The Accidental Prime Minister (film)         Anupam Kher\n",
      "Why Cheat India                            Emraan Hashmi\n",
      "Evening Shadows                         Mona Ambegaonkar\n",
      "                                              ...       \n",
      "Hum Tumhare Hain Sanam                    Shah Rukh Khan\n",
      "Aankhen (2002 film)                     Amitabh Bachchan\n",
      "Saathiya (film)                             Vivek Oberoi\n",
      "Company (film)                                Ajay Devgn\n",
      "Awara Paagal Deewana                        Akshay Kumar\n",
      "Name: lead, Length: 1500, dtype: object\n"
     ]
    }
   ],
   "source": [
    "# with 1 col\n",
    "subs = pd.read_csv('subs.csv')\n",
    "subs = subs.squeeze('columns')\n",
    "# print(type(subs))\n",
    "# print(subs)  \n",
    "\n",
    "# with 2 col\n",
    "vk = pd.read_csv('kohli_ipl.csv', index_col='match_no')\n",
    "vk = vk.squeeze('columns')    # dataframe to series e convert korlo\n",
    "# print(vk)\n",
    "\n",
    "# with 3 col  -> ekhane index movie and values lead actor\n",
    "movies = pd.read_csv('bollywood.csv', index_col='movie')\n",
    "movies = movies.squeeze('columns')\n",
    "print(movies)"
   ]
  },
  {
   "cell_type": "code",
   "execution_count": 11,
   "id": "dd3fdf4a",
   "metadata": {},
   "outputs": [
    {
     "name": "stdout",
     "output_type": "stream",
     "text": [
      "0    48\n",
      "1    57\n",
      "2    40\n",
      "Name: Subscribers gained, dtype: int64\n",
      "362    155\n",
      "363    144\n",
      "364    172\n",
      "Name: Subscribers gained, dtype: int64\n",
      "match_no\n",
      "71     51\n",
      "207     0\n",
      "215     7\n",
      "25      7\n",
      "Name: runs, dtype: int64\n"
     ]
    }
   ],
   "source": [
    "# head and tail\n",
    "print(subs.head(3))\n",
    "print(subs.tail(3))\n",
    "\n",
    "# sample -> random one row\n",
    "print(vk.sample(4))\n"
   ]
  },
  {
   "cell_type": "code",
   "execution_count": 4,
   "id": "08c5e46f",
   "metadata": {},
   "outputs": [
    {
     "name": "stdout",
     "output_type": "stream",
     "text": [
      "lead\n",
      "Akshay Kumar        48\n",
      "Amitabh Bachchan    45\n",
      "Ajay Devgn          38\n",
      "Salman Khan         31\n",
      "Sanjay Dutt         26\n",
      "                    ..\n",
      "Diganth              1\n",
      "Parveen Kaur         1\n",
      "Seema Azmi           1\n",
      "Akanksha Puri        1\n",
      "Edwin Fernandes      1\n",
      "Name: count, Length: 566, dtype: int64\n"
     ]
    }
   ],
   "source": [
    "# value_counts -> freq count / ekta value kotobar repeat hocce\n",
    "print(movies.value_counts())  "
   ]
  },
  {
   "cell_type": "code",
   "execution_count": 5,
   "id": "6d5c1acf",
   "metadata": {},
   "outputs": [
    {
     "name": "stdout",
     "output_type": "stream",
     "text": [
      "movie\n",
      "Qaidi Band                            Aadar Jain\n",
      "Roar: Tigers of the Sundarbans      Aadil Chahal\n",
      "Lipstick Under My Burkha            Aahana Kumra\n",
      "Raat Gayi Baat Gayi?                Aamir Bashir\n",
      "Talaash: The Answer Lies Within       Aamir Khan\n",
      "                                        ...     \n",
      "Dil Toh Deewana Hai                  Zeenat Aman\n",
      "Sallu Ki Shaadi                      Zeenat Aman\n",
      "Strings of Passion                   Zeenat Aman\n",
      "Dunno Y... Na Jaane Kyon             Zeenat Aman\n",
      "Taj Mahal: An Eternal Love Story     Zulfi Sayed\n",
      "Name: lead, Length: 1500, dtype: object\n",
      "movie\n",
      "Taj Mahal: An Eternal Love Story     Zulfi Sayed\n",
      "Dil Toh Deewana Hai                  Zeenat Aman\n",
      "Strings of Passion                   Zeenat Aman\n",
      "Sallu Ki Shaadi                      Zeenat Aman\n",
      "Dunno Y... Na Jaane Kyon             Zeenat Aman\n",
      "                                        ...     \n",
      "Fanaa (2006 film)                     Aamir Khan\n",
      "Raat Gayi Baat Gayi?                Aamir Bashir\n",
      "Lipstick Under My Burkha            Aahana Kumra\n",
      "Roar: Tigers of the Sundarbans      Aadil Chahal\n",
      "Qaidi Band                            Aadar Jain\n",
      "Name: lead, Length: 1500, dtype: object\n",
      "movie\n",
      "Taj Mahal: An Eternal Love Story    Zulfi Sayed\n",
      "Name: lead, dtype: object\n",
      "Zeenat Aman\n",
      "movie\n",
      "1920 (film)                   Rajniesh Duggall\n",
      "1920: London                     Sharman Joshi\n",
      "1920: The Evil Returns             Vicky Ahuja\n",
      "1971 (2007 film)                Manoj Bajpayee\n",
      "2 States (2014 film)              Arjun Kapoor\n",
      "                                   ...        \n",
      "Zindagi 50-50                      Veena Malik\n",
      "Zindagi Na Milegi Dobara        Hrithik Roshan\n",
      "Zindagi Tere Naam           Mithun Chakraborty\n",
      "Zokkomon                       Darsheel Safary\n",
      "Zor Lagaa Ke...Haiya!            Meghan Jadhav\n",
      "Name: lead, Length: 1500, dtype: object\n"
     ]
    }
   ],
   "source": [
    "print(movies.sort_values())    # sort holo value er base kore\n",
    "print(movies.sort_values(ascending=False))    # sort holo value er base kore\n",
    "# inplace=True diye actual array ke sort kora jay\n",
    "\n",
    "print(movies.sort_values(ascending=False).head(1))\n",
    "print(movies.sort_values(ascending=False).head(4).values[1])\n",
    "\n",
    "print(movies.sort_index())   # index=movie col er wise sort\n"
   ]
  },
  {
   "cell_type": "code",
   "execution_count": 14,
   "id": "a2e059b8",
   "metadata": {},
   "outputs": [
    {
     "name": "stdout",
     "output_type": "stream",
     "text": [
      "3472\n",
      "2182\n"
     ]
    }
   ],
   "source": [
    "# astype\n",
    "import sys\n",
    "print(sys.getsizeof(vk))\n",
    "print(sys.getsizeof(vk.astype('int16')))\n"
   ]
  },
  {
   "cell_type": "code",
   "execution_count": 19,
   "id": "6acdefb9",
   "metadata": {},
   "outputs": [
    {
     "name": "stdout",
     "output_type": "stream",
     "text": [
      "3\n",
      "match_no\n",
      "82      99\n",
      "120    100\n",
      "164    100\n",
      "Name: runs, dtype: int64\n"
     ]
    }
   ],
   "source": [
    "# between \n",
    "print(vk[vk.between(95, 100)].size)\n",
    "print(vk[vk.between(95, 100)])"
   ]
  },
  {
   "cell_type": "code",
   "execution_count": 25,
   "id": "8b386e1f",
   "metadata": {},
   "outputs": [],
   "source": [
    "# clip\n",
    "# print(subs.clip(100, 200))"
   ]
  },
  {
   "cell_type": "code",
   "execution_count": 27,
   "id": "d739794a",
   "metadata": {},
   "outputs": [
    {
     "name": "stdout",
     "output_type": "stream",
     "text": [
      "0      False\n",
      "1      False\n",
      "2      False\n",
      "3      False\n",
      "4      False\n",
      "       ...  \n",
      "360    False\n",
      "361    False\n",
      "362     True\n",
      "363    False\n",
      "364     True\n",
      "Name: Subscribers gained, Length: 365, dtype: bool\n",
      "185\n",
      "0       48\n",
      "1       57\n",
      "2       40\n",
      "3       43\n",
      "4       44\n",
      "      ... \n",
      "357    177\n",
      "359    209\n",
      "360    231\n",
      "361    226\n",
      "363    144\n",
      "Name: Subscribers gained, Length: 180, dtype: int64\n"
     ]
    }
   ],
   "source": [
    "# duplicate ace kina\n",
    "print(subs.duplicated())  # duplicate kina check\n",
    "print(subs.duplicated().sum())  # duplicate kotogula ta count\n",
    "# drop duplicate\n",
    "print(subs.drop_duplicates())   #value er duplicate gulake drop kore\n",
    "# print(subs.drop_duplicates(keep='last'))   # duplicate drop only last take rakhe\n",
    "# print(subs.drop_duplicates(keep='first'))   # duplicate drop only first take rakhe"
   ]
  },
  {
   "cell_type": "code",
   "execution_count": null,
   "id": "902e91e9",
   "metadata": {},
   "outputs": [
    {
     "data": {
      "text/plain": [
       "match_no\n",
       "1       1\n",
       "2      23\n",
       "3      13\n",
       "4      12\n",
       "5       1\n",
       "       ..\n",
       "211     0\n",
       "212    20\n",
       "213    73\n",
       "214    25\n",
       "215     7\n",
       "Name: runs, Length: 215, dtype: int64"
      ]
     },
     "execution_count": 31,
     "metadata": {},
     "output_type": "execute_result"
    }
   ],
   "source": [
    "# isnull\n",
    "vk.isnull().sum()\n",
    "# dropna\n",
    "vk.dropna()   # null value drop korbe\n",
    "\n",
    "vk.fillna(0)   # shb missing/null ke 0 diye fill korbe"
   ]
  },
  {
   "cell_type": "code",
   "execution_count": null,
   "id": "d46c2a7a",
   "metadata": {},
   "outputs": [
    {
     "data": {
      "text/plain": [
       "match_no\n",
       "82    99\n",
       "86    49\n",
       "Name: runs, dtype: int64"
      ]
     },
     "execution_count": 32,
     "metadata": {},
     "output_type": "execute_result"
    }
   ],
   "source": [
    "# isin\n",
    "vk[vk.isin([49, 99])]"
   ]
  },
  {
   "cell_type": "code",
   "execution_count": 33,
   "id": "abf17975",
   "metadata": {},
   "outputs": [
    {
     "data": {
      "text/plain": [
       "0       bad day\n",
       "1       bad day\n",
       "2       bad day\n",
       "3       bad day\n",
       "4       bad day\n",
       "         ...   \n",
       "360    good day\n",
       "361    good day\n",
       "362    good day\n",
       "363    good day\n",
       "364    good day\n",
       "Name: Subscribers gained, Length: 365, dtype: object"
      ]
     },
     "execution_count": 33,
     "metadata": {},
     "output_type": "execute_result"
    }
   ],
   "source": [
    "# apply **\n",
    "subs.apply(lambda x: 'good day' if x>subs.mean() else 'bad day')\n"
   ]
  },
  {
   "cell_type": "code",
   "execution_count": 34,
   "id": "a5e1131d",
   "metadata": {},
   "outputs": [
    {
     "data": {
      "text/plain": [
       "match_no\n",
       "1     1\n",
       "2    23\n",
       "3    13\n",
       "4    12\n",
       "5     1\n",
       "Name: runs, dtype: int64"
      ]
     },
     "execution_count": 34,
     "metadata": {},
     "output_type": "execute_result"
    }
   ],
   "source": [
    "# copy  -> shudu head korle ref store so head wala te change korle original teo change hoy -> eta problem\n",
    "vk.head().copy()"
   ]
  },
  {
   "cell_type": "markdown",
   "id": "ccf887a8",
   "metadata": {},
   "source": [
    "### Series Math methods "
   ]
  },
  {
   "cell_type": "code",
   "execution_count": null,
   "id": "3889ec50",
   "metadata": {},
   "outputs": [
    {
     "name": "stdout",
     "output_type": "stream",
     "text": [
      "215\n",
      "49510\n",
      "0\n"
     ]
    }
   ],
   "source": [
    "# count -> misisng value count kore na\n",
    "print(vk.count())\n",
    "\n",
    "# sum -> total values\n",
    "print(subs.sum())\n",
    "print(subs.prod())"
   ]
  },
  {
   "cell_type": "code",
   "execution_count": 7,
   "id": "3b8398b0",
   "metadata": {},
   "outputs": [
    {
     "name": "stdout",
     "output_type": "stream",
     "text": [
      "135.64383561643837\n",
      "123.0\n",
      "0    105\n",
      "Name: Subscribers gained, dtype: int64\n",
      "62.67502303725269\n",
      "3928.1585127201556\n"
     ]
    }
   ],
   "source": [
    "# mean / median / mode / std / var\n",
    "print(subs.mean())\n",
    "print(subs.median())\n",
    "print(subs.mode())\n",
    "print(subs.std())\n",
    "print(subs.var())\n"
   ]
  },
  {
   "cell_type": "code",
   "execution_count": 8,
   "id": "5ae4690d",
   "metadata": {},
   "outputs": [
    {
     "name": "stdout",
     "output_type": "stream",
     "text": [
      "33\n",
      "396\n"
     ]
    }
   ],
   "source": [
    "# min / max\n",
    "print(subs.min())\n",
    "print(subs.max())"
   ]
  },
  {
   "cell_type": "code",
   "execution_count": null,
   "id": "cd3ae4d0",
   "metadata": {},
   "outputs": [
    {
     "name": "stdout",
     "output_type": "stream",
     "text": [
      "count    215.000000\n",
      "mean      30.855814\n",
      "std       26.229801\n",
      "min        0.000000\n",
      "25%        9.000000\n",
      "50%       24.000000\n",
      "75%       48.000000\n",
      "max      113.000000\n",
      "Name: runs, dtype: float64\n",
      "count    365.000000\n",
      "mean     135.643836\n",
      "std       62.675023\n",
      "min       33.000000\n",
      "25%       88.000000\n",
      "50%      123.000000\n",
      "75%      177.000000\n",
      "max      396.000000\n",
      "Name: Subscribers gained, dtype: float64\n"
     ]
    }
   ],
   "source": [
    "# describe  -> summary ene dibe\n",
    "print(vk.describe())\n",
    "print(subs.describe())"
   ]
  },
  {
   "cell_type": "code",
   "execution_count": null,
   "id": "ba0e2adf",
   "metadata": {},
   "outputs": [],
   "source": []
  }
 ],
 "metadata": {
  "kernelspec": {
   "display_name": "base",
   "language": "python",
   "name": "python3"
  },
  "language_info": {
   "codemirror_mode": {
    "name": "ipython",
    "version": 3
   },
   "file_extension": ".py",
   "mimetype": "text/x-python",
   "name": "python",
   "nbconvert_exporter": "python",
   "pygments_lexer": "ipython3",
   "version": "3.12.3"
  }
 },
 "nbformat": 4,
 "nbformat_minor": 5
}
