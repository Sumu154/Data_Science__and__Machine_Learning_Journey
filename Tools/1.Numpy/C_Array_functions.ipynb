{
 "cells": [
  {
   "cell_type": "markdown",
   "id": "3cb2929a",
   "metadata": {},
   "source": [
    "### Numpy functions"
   ]
  },
  {
   "cell_type": "code",
   "execution_count": 1,
   "id": "3d20141f",
   "metadata": {},
   "outputs": [],
   "source": [
    "import numpy as np"
   ]
  },
  {
   "cell_type": "code",
   "execution_count": 2,
   "id": "845a7a08",
   "metadata": {},
   "outputs": [
    {
     "name": "stdout",
     "output_type": "stream",
     "text": [
      "[[48. 83. 66.]\n",
      " [50. 34. 96.]\n",
      " [45. 17. 39.]]\n"
     ]
    }
   ],
   "source": [
    "a = np.random.random((3,3))\n",
    "a = np.round(a*100)\n",
    "print(a)\n"
   ]
  },
  {
   "cell_type": "code",
   "execution_count": 3,
   "id": "9ad52cf6",
   "metadata": {},
   "outputs": [
    {
     "name": "stdout",
     "output_type": "stream",
     "text": [
      "96.0\n",
      "478.0\n",
      "1280293267968000.0\n",
      "[50. 83. 96.]\n",
      "[143. 134. 201.]\n",
      "[108000.  47974. 247104.]\n"
     ]
    }
   ],
   "source": [
    "# max/min/sum/prod\n",
    "print(np.max(a))\n",
    "print(np.sum(a))\n",
    "print(np.prod(a))\n",
    "\n",
    "\n",
    "# max/min/sum/prod -> each row/col\n",
    "# 0->col, 1->row\n",
    "print(np.max(a, axis=0))\n",
    "print(np.sum(a, axis=0))\n",
    "print(np.prod(a, axis=0))"
   ]
  },
  {
   "cell_type": "code",
   "execution_count": 4,
   "id": "5caa816b",
   "metadata": {},
   "outputs": [
    {
     "name": "stdout",
     "output_type": "stream",
     "text": [
      "53.111111111111114\n",
      "48.0\n",
      "23.25914130661293\n",
      "540.9876543209878\n"
     ]
    }
   ],
   "source": [
    "# mean/median/std/var\n",
    "\n",
    "print(np.mean(a))\n",
    "print(np.median(a))\n",
    "print(np.std(a))    # standard deviation\n",
    "print(np.var(a))    # variance"
   ]
  },
  {
   "cell_type": "code",
   "execution_count": 5,
   "id": "e7c8713f",
   "metadata": {},
   "outputs": [
    {
     "name": "stdout",
     "output_type": "stream",
     "text": [
      "[[114 120 126]\n",
      " [378 400 422]\n",
      " [642 680 718]]\n"
     ]
    }
   ],
   "source": [
    "# dot product\n",
    "\n",
    "a1 = np.arange(12).reshape(3,4)\n",
    "a2 = np.arange(12,24).reshape(4,3)\n",
    "\n",
    "print(np.dot(a1, a2))"
   ]
  },
  {
   "cell_type": "code",
   "execution_count": 6,
   "id": "24904c85",
   "metadata": {},
   "outputs": [
    {
     "name": "stdout",
     "output_type": "stream",
     "text": [
      "[[7.01673591e+20 1.11286375e+36 4.60718663e+28]\n",
      " [5.18470553e+21 5.83461743e+14 4.92345829e+41]\n",
      " [3.49342711e+19 2.41549528e+07 8.65934004e+16]]\n"
     ]
    }
   ],
   "source": [
    "# log and exponents\n",
    "\n",
    "print(np.exp(a))"
   ]
  },
  {
   "cell_type": "code",
   "execution_count": null,
   "id": "bf19a48f",
   "metadata": {},
   "outputs": [],
   "source": []
  },
  {
   "cell_type": "markdown",
   "id": "a3c9c7e1",
   "metadata": {},
   "source": [
    "#### self defined formulas math function"
   ]
  },
  {
   "cell_type": "code",
   "execution_count": 15,
   "id": "0d9cfb30",
   "metadata": {},
   "outputs": [
    {
     "name": "stdout",
     "output_type": "stream",
     "text": [
      "[0 1 2 3 4 5 6 7 8 9]\n"
     ]
    },
    {
     "data": {
      "text/plain": [
       "array([0.5       , 0.73105858, 0.88079708, 0.95257413, 0.98201379,\n",
       "       0.99330715, 0.99752738, 0.99908895, 0.99966465, 0.99987661])"
      ]
     },
     "execution_count": 15,
     "metadata": {},
     "output_type": "execute_result"
    }
   ],
   "source": [
    "# sigmoid\n",
    "def sigmoid(a):\n",
    "  print(a)\n",
    "  return 1/(1+np.exp(-a))\n",
    "\n",
    "a = np.arange(10)\n",
    "sigmoid(a)"
   ]
  },
  {
   "cell_type": "code",
   "execution_count": 16,
   "id": "8a338b22",
   "metadata": {},
   "outputs": [
    {
     "data": {
      "text/plain": [
       "485.64"
      ]
     },
     "execution_count": 16,
     "metadata": {},
     "output_type": "execute_result"
    }
   ],
   "source": [
    "# mean squared error\n",
    "actual = np.random.randint(1,50,25)\n",
    "predicted = np.random.randint(1,50,25)\n",
    "\n",
    "def mse(actual, predicted):\n",
    "  return np.mean((actual-predicted)**2)\n",
    "\n",
    "mse(actual, predicted)"
   ]
  },
  {
   "cell_type": "code",
   "execution_count": null,
   "id": "7461c937",
   "metadata": {},
   "outputs": [],
   "source": []
  }
 ],
 "metadata": {
  "kernelspec": {
   "display_name": "base",
   "language": "python",
   "name": "python3"
  },
  "language_info": {
   "codemirror_mode": {
    "name": "ipython",
    "version": 3
   },
   "file_extension": ".py",
   "mimetype": "text/x-python",
   "name": "python",
   "nbconvert_exporter": "python",
   "pygments_lexer": "ipython3",
   "version": "3.12.3"
  }
 },
 "nbformat": 4,
 "nbformat_minor": 5
}
