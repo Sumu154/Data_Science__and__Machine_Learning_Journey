{
 "cells": [
  {
   "cell_type": "markdown",
   "id": "1df4dc89",
   "metadata": {},
   "source": [
    "## Array operations"
   ]
  },
  {
   "cell_type": "code",
   "execution_count": 2,
   "id": "eef1ec93",
   "metadata": {},
   "outputs": [],
   "source": [
    "import numpy as np"
   ]
  },
  {
   "cell_type": "code",
   "execution_count": 8,
   "id": "87c93861",
   "metadata": {},
   "outputs": [
    {
     "name": "stdout",
     "output_type": "stream",
     "text": [
      "[[ 0  1  2  3]\n",
      " [ 4  5  6  7]\n",
      " [ 8  9 10 11]]\n",
      "[[12 13 14 15]\n",
      " [16 17 18 19]\n",
      " [20 21 22 23]]\n"
     ]
    }
   ],
   "source": [
    "a1 = np.arange(12).reshape(3,4)\n",
    "a2 = np.arange(12,24).reshape(3,4)\n",
    "\n",
    "print(a1)\n",
    "print(a2)"
   ]
  },
  {
   "cell_type": "code",
   "execution_count": null,
   "id": "5bfe3c9f",
   "metadata": {},
   "outputs": [
    {
     "name": "stdout",
     "output_type": "stream",
     "text": [
      "[[ 0  2  4  6]\n",
      " [ 8 10 12 14]\n",
      " [16 18 20 22]]\n",
      "[[24 26 28 30]\n",
      " [32 34 36 38]\n",
      " [40 42 44 46]]\n"
     ]
    }
   ],
   "source": [
    "# Scaler operation -> + - * / all will work\n",
    "\n",
    "print(a1*2)\n",
    "print(a2*2)"
   ]
  },
  {
   "cell_type": "code",
   "execution_count": null,
   "id": "ec83c156",
   "metadata": {},
   "outputs": [
    {
     "name": "stdout",
     "output_type": "stream",
     "text": [
      "[[False False False  True]\n",
      " [ True  True  True  True]\n",
      " [ True  True  True  True]]\n",
      "[[False False False False]\n",
      " [ True  True  True  True]\n",
      " [ True  True  True  True]]\n"
     ]
    }
   ],
   "source": [
    "# relational operator \n",
    "print(a1>2)\n",
    "print(a2>15)\n"
   ]
  },
  {
   "cell_type": "code",
   "execution_count": 12,
   "id": "0825f5ce",
   "metadata": {},
   "outputs": [
    {
     "name": "stdout",
     "output_type": "stream",
     "text": [
      "[[12 14 16 18]\n",
      " [20 22 24 26]\n",
      " [28 30 32 34]]\n",
      "[[12 12 12 12]\n",
      " [12 12 12 12]\n",
      " [12 12 12 12]]\n",
      "[[  0  13  28  45]\n",
      " [ 64  85 108 133]\n",
      " [160 189 220 253]]\n",
      "[[0.         0.07692308 0.14285714 0.2       ]\n",
      " [0.25       0.29411765 0.33333333 0.36842105]\n",
      " [0.4        0.42857143 0.45454545 0.47826087]]\n"
     ]
    }
   ],
   "source": [
    "# vector operation\n",
    "print(a1+a2)\n",
    "print(a2-a1)\n",
    "print(a1*a2)\n",
    "print(a1/a2)\n"
   ]
  },
  {
   "cell_type": "code",
   "execution_count": null,
   "id": "61503595",
   "metadata": {},
   "outputs": [],
   "source": []
  }
 ],
 "metadata": {
  "kernelspec": {
   "display_name": "base",
   "language": "python",
   "name": "python3"
  },
  "language_info": {
   "codemirror_mode": {
    "name": "ipython",
    "version": 3
   },
   "file_extension": ".py",
   "mimetype": "text/x-python",
   "name": "python",
   "nbconvert_exporter": "python",
   "pygments_lexer": "ipython3",
   "version": "3.12.3"
  }
 },
 "nbformat": 4,
 "nbformat_minor": 5
}
