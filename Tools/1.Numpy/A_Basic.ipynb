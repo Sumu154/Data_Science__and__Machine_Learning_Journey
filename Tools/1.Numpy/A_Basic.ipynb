{
 "cells": [
  {
   "cell_type": "markdown",
   "id": "14f96b6f",
   "metadata": {},
   "source": [
    "##  Numpy array"
   ]
  },
  {
   "cell_type": "code",
   "execution_count": 1,
   "id": "a074a64e",
   "metadata": {},
   "outputs": [],
   "source": [
    "import numpy as np"
   ]
  },
  {
   "cell_type": "code",
   "execution_count": 2,
   "id": "5ddf6b0e",
   "metadata": {},
   "outputs": [
    {
     "name": "stdout",
     "output_type": "stream",
     "text": [
      "[1 2 3]\n",
      "[[1 2 3]\n",
      " [4 5 6]]\n",
      "[[[1 2]\n",
      "  [3 4]\n",
      "  [5 6]]]\n"
     ]
    }
   ],
   "source": [
    "\n",
    "\n",
    "# vector -> 1D\n",
    "a = np.array([1, 2, 3])\n",
    "print(a)\n",
    "\n",
    "# matrix -> 2D\n",
    "b = np.array([[1, 2, 3], [4, 5, 6]])\n",
    "print(b)\n",
    "\n",
    "# tensor -> 3D\n",
    "c = np.array([[[1, 2], [3, 4], [5, 6]]])  \n",
    "print(c)"
   ]
  },
  {
   "cell_type": "code",
   "execution_count": 3,
   "id": "a6c54ffd",
   "metadata": {},
   "outputs": [
    {
     "name": "stdout",
     "output_type": "stream",
     "text": [
      "[1. 2. 3.]\n",
      "[[1. 2. 3.]\n",
      " [4. 5. 6.]]\n",
      "[[[1. 2.]\n",
      "  [3. 4.]\n",
      "  [5. 6.]]]\n"
     ]
    }
   ],
   "source": [
    "# any data type pass\n",
    "# vector -> 1D\n",
    "a = np.array([1, 2, 3], dtype=float)\n",
    "print(a)\n",
    "\n",
    "# matrix -> 2D\n",
    "b = np.array([[1, 2, 3], [4, 5, 6]], dtype=float)\n",
    "print(b)\n",
    "\n",
    "# tensor -> 3D\n",
    "c = np.array([[[1, 2], [3, 4], [5, 6]]], dtype=float)  \n",
    "print(c)\n"
   ]
  },
  {
   "cell_type": "code",
   "execution_count": 4,
   "id": "9c36b9b9",
   "metadata": {},
   "outputs": [
    {
     "name": "stdout",
     "output_type": "stream",
     "text": [
      "1\n",
      "2\n",
      "3\n"
     ]
    }
   ],
   "source": [
    "# ndim\n",
    "print(a.ndim)\n",
    "print(b.ndim)\n",
    "print(c.ndim)\n"
   ]
  },
  {
   "cell_type": "code",
   "execution_count": 5,
   "id": "1e6ee69e",
   "metadata": {},
   "outputs": [
    {
     "name": "stdout",
     "output_type": "stream",
     "text": [
      "(3,)\n",
      "(2, 3)\n",
      "(1, 3, 2)\n"
     ]
    }
   ],
   "source": [
    "# shape\n",
    "print(a.shape)\n",
    "print(b.shape)\n",
    "print(c.shape)"
   ]
  },
  {
   "cell_type": "code",
   "execution_count": 6,
   "id": "668b4888",
   "metadata": {},
   "outputs": [
    {
     "name": "stdout",
     "output_type": "stream",
     "text": [
      "3\n",
      "6\n",
      "6\n"
     ]
    }
   ],
   "source": [
    "# size\n",
    "print(a.size)\n",
    "print(b.size)\n",
    "print(c.size)"
   ]
  },
  {
   "cell_type": "code",
   "execution_count": 7,
   "id": "2cce0b20",
   "metadata": {},
   "outputs": [
    {
     "name": "stdout",
     "output_type": "stream",
     "text": [
      "float64\n",
      "float64\n",
      "float64\n"
     ]
    }
   ],
   "source": [
    "# dtype\n",
    "print(a.dtype)\n",
    "print(b.dtype)\n",
    "print(c.dtype)"
   ]
  },
  {
   "cell_type": "code",
   "execution_count": 8,
   "id": "64d6f672",
   "metadata": {},
   "outputs": [
    {
     "name": "stdout",
     "output_type": "stream",
     "text": [
      "int64\n",
      "int64\n",
      "int64\n"
     ]
    }
   ],
   "source": [
    "# changing dtype -> must reassign after changing\n",
    "a = a.astype(np.int64)\n",
    "b = b.astype(np.int64)\n",
    "c = c.astype(np.int64)\n",
    "\n",
    "# dtype\n",
    "print(a.dtype)\n",
    "print(b.dtype)\n",
    "print(c.dtype)"
   ]
  },
  {
   "cell_type": "code",
   "execution_count": 9,
   "id": "3ca3a25c",
   "metadata": {},
   "outputs": [
    {
     "name": "stdout",
     "output_type": "stream",
     "text": [
      "[ 1  4  7 10]\n",
      "[[ 1  2  3  4  5]\n",
      " [ 6  7  8  9 10]]\n"
     ]
    }
   ],
   "source": [
    "# range e\n",
    "print(np.arange(1, 11, 3))\n",
    "# reshape\n",
    "print(np.arange(1, 11).reshape(2, 5))   #means 2 row 5 col banabe\n"
   ]
  },
  {
   "cell_type": "code",
   "execution_count": 10,
   "id": "3037eb37",
   "metadata": {},
   "outputs": [
    {
     "name": "stdout",
     "output_type": "stream",
     "text": [
      "[[1. 1. 1. 1.]\n",
      " [1. 1. 1. 1.]\n",
      " [1. 1. 1. 1.]]\n",
      "[[0. 0. 0. 0.]\n",
      " [0. 0. 0. 0.]\n",
      " [0. 0. 0. 0.]]\n"
     ]
    }
   ],
   "source": [
    "# zeros and ones\n",
    "print(np.ones((3, 4)))\n",
    "print(np.zeros((3, 4)))"
   ]
  },
  {
   "cell_type": "code",
   "execution_count": 11,
   "id": "03703acf",
   "metadata": {},
   "outputs": [
    {
     "data": {
      "text/plain": [
       "array([[0.10130756, 0.34156407, 0.50702826, 0.1897908 ],\n",
       "       [0.85100381, 0.56435806, 0.24537531, 0.02166958],\n",
       "       [0.11981201, 0.445864  , 0.92428958, 0.82402105]])"
      ]
     },
     "execution_count": 11,
     "metadata": {},
     "output_type": "execute_result"
    }
   ],
   "source": [
    "# random number initialization\n",
    "np.random.random((3, 4))"
   ]
  },
  {
   "cell_type": "code",
   "execution_count": 12,
   "id": "bb2d0457",
   "metadata": {},
   "outputs": [
    {
     "name": "stdout",
     "output_type": "stream",
     "text": [
      "[-10.          -7.77777778  -5.55555556  -3.33333333  -1.11111111\n",
      "   1.11111111   3.33333333   5.55555556   7.77777778  10.        ]\n",
      "[[1. 0. 0.]\n",
      " [0. 1. 0.]\n",
      " [0. 0. 1.]]\n"
     ]
    }
   ],
   "source": [
    "# linspace -> linear space\n",
    "print(np.linspace(-10, 10, 10))  #(lower, upper, total num you want to genrate)\n",
    "\n",
    "# identity -> for identity matrix\n",
    "print(np.identity(3))\n"
   ]
  },
  {
   "cell_type": "code",
   "execution_count": null,
   "id": "5c39c1ea",
   "metadata": {},
   "outputs": [],
   "source": []
  },
  {
   "cell_type": "markdown",
   "id": "ec8d8ea3",
   "metadata": {},
   "source": [
    "#### Working with missing values"
   ]
  },
  {
   "cell_type": "code",
   "execution_count": null,
   "id": "231d3b62",
   "metadata": {},
   "outputs": [
    {
     "data": {
      "text/plain": [
       "array([1., 2., 3., 4., 6.])"
      ]
     },
     "execution_count": 14,
     "metadata": {},
     "output_type": "execute_result"
    }
   ],
   "source": [
    "# working with missing values \n",
    "a = np.array([1,2,3,4,np.nan,6])\n",
    "a\n",
    "a[~np.isnan(a)]  #missing value shoraye felbe"
   ]
  }
 ],
 "metadata": {
  "kernelspec": {
   "display_name": "base",
   "language": "python",
   "name": "python3"
  },
  "language_info": {
   "codemirror_mode": {
    "name": "ipython",
    "version": 3
   },
   "file_extension": ".py",
   "mimetype": "text/x-python",
   "name": "python",
   "nbconvert_exporter": "python",
   "pygments_lexer": "ipython3",
   "version": "3.12.3"
  }
 },
 "nbformat": 4,
 "nbformat_minor": 5
}
