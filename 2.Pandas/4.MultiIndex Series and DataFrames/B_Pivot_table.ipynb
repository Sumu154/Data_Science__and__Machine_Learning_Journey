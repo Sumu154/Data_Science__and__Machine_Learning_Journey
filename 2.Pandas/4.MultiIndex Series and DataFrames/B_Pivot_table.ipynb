{
 "cells": [
  {
   "cell_type": "markdown",
   "id": "27686e85",
   "metadata": {},
   "source": [
    "### Pivot Table\n",
    "\n",
    "The pivot table takes simple column-wise data as input, and groups the entries into a two-dimensional table that provides a multidimensional summarization of the data."
   ]
  },
  {
   "cell_type": "code",
   "execution_count": null,
   "id": "1a22830c",
   "metadata": {},
   "outputs": [],
   "source": [
    "import numpy as np\n",
    "import pandas as pd\n",
    "import seaborn as sns"
   ]
  }
 ],
 "metadata": {
  "kernelspec": {
   "display_name": "base",
   "language": "python",
   "name": "python3"
  },
  "language_info": {
   "name": "python",
   "version": "3.12.3"
  }
 },
 "nbformat": 4,
 "nbformat_minor": 5
}
