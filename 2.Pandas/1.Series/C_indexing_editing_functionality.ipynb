{
 "cells": [
  {
   "cell_type": "markdown",
   "id": "d3ff5810",
   "metadata": {},
   "source": [
    "## Series indexing"
   ]
  },
  {
   "cell_type": "code",
   "execution_count": 8,
   "id": "471037bb",
   "metadata": {},
   "outputs": [],
   "source": [
    "import numpy as np\n",
    "import pandas as pd"
   ]
  },
  {
   "cell_type": "code",
   "execution_count": null,
   "id": "b9051648",
   "metadata": {},
   "outputs": [
    {
     "name": "stdout",
     "output_type": "stream",
     "text": [
      "movie\n",
      "Uri: The Surgical Strike                   Vicky Kaushal\n",
      "Battalion 609                                Vicky Ahuja\n",
      "The Accidental Prime Minister (film)         Anupam Kher\n",
      "Why Cheat India                            Emraan Hashmi\n",
      "Evening Shadows                         Mona Ambegaonkar\n",
      "                                              ...       \n",
      "Hum Tumhare Hain Sanam                    Shah Rukh Khan\n",
      "Aankhen (2002 film)                     Amitabh Bachchan\n",
      "Saathiya (film)                             Vivek Oberoi\n",
      "Company (film)                                Ajay Devgn\n",
      "Awara Paagal Deewana                        Akshay Kumar\n",
      "Name: lead, Length: 1500, dtype: object\n"
     ]
    }
   ],
   "source": [
    "# with 1 col\n",
    "subs = pd.read_csv('subs.csv')\n",
    "subs = subs.squeeze('columns')\n",
    "# print(type(subs))\n",
    "# print(subs)  \n",
    "\n",
    "# with 2 col\n",
    "vk = pd.read_csv('kohli_ipl.csv', index_col='match_no')\n",
    "vk = vk.squeeze('columns')    # dataframe to series e convert korlo\n",
    "# print(vk)\n",
    "\n",
    "# with 2 col  -> ekhane index movie and values lead actor\n",
    "movies = pd.read_csv('bollywood.csv', index_col='movie')\n",
    "movies = movies.squeeze('columns')\n",
    "print(movies)"
   ]
  },
  {
   "cell_type": "code",
   "execution_count": 10,
   "id": "ee3a71cd",
   "metadata": {},
   "outputs": [
    {
     "name": "stdout",
     "output_type": "stream",
     "text": [
      "12\n",
      "Akshay Kumar\n"
     ]
    },
    {
     "name": "stderr",
     "output_type": "stream",
     "text": [
      "C:\\Users\\Sumaiya\\AppData\\Local\\Temp\\ipykernel_13496\\114360603.py:5: FutureWarning: Series.__getitem__ treating keys as positions is deprecated. In a future version, integer keys will always be treated as labels (consistent with DataFrame behavior). To access a value by position, use `ser.iloc[pos]`\n",
      "  print(movies[-1])   #when index=string, then i think work\n"
     ]
    }
   ],
   "source": [
    "x = pd.Series([12, 13, 14, 45, 34, 67, 43])\n",
    "\n",
    "print(x[0])   #series negative indexing nai for numeric\n",
    "# print(subs[-1])\n",
    "print(movies[-1])   #when index=string, then i think work"
   ]
  },
  {
   "cell_type": "code",
   "execution_count": 11,
   "id": "4ef823de",
   "metadata": {},
   "outputs": [
    {
     "name": "stdout",
     "output_type": "stream",
     "text": [
      "movie\n",
      "Soni (film)                         Geetika Vidya Ohlyan\n",
      "Fraud Saiyaan                               Arshad Warsi\n",
      "Bombairiya                                  Radhika Apte\n",
      "Manikarnika: The Queen of Jhansi          Kangana Ranaut\n",
      "Thackeray (film)                     Nawazuddin Siddiqui\n",
      "Name: lead, dtype: object\n",
      "movie\n",
      "Hum Tumhare Hain Sanam      Shah Rukh Khan\n",
      "Aankhen (2002 film)       Amitabh Bachchan\n",
      "Saathiya (film)               Vivek Oberoi\n",
      "Company (film)                  Ajay Devgn\n",
      "Awara Paagal Deewana          Akshay Kumar\n",
      "Name: lead, dtype: object\n",
      "0       48\n",
      "2       40\n",
      "4       44\n",
      "6       33\n",
      "8       44\n",
      "      ... \n",
      "356    156\n",
      "358    210\n",
      "360    231\n",
      "362    155\n",
      "364    172\n",
      "Name: Subscribers gained, Length: 183, dtype: int64\n"
     ]
    }
   ],
   "source": [
    "# slicing\n",
    "# print(vk[5:10])\n",
    "# print(vk[-5:])\n",
    "\n",
    "print(movies[5:10])\n",
    "print(movies[-5:])\n",
    "\n",
    "print(subs[::2])"
   ]
  },
  {
   "cell_type": "code",
   "execution_count": 12,
   "id": "0a449282",
   "metadata": {},
   "outputs": [
    {
     "name": "stdout",
     "output_type": "stream",
     "text": [
      "match_no\n",
      "1     1\n",
      "5     1\n",
      "7    34\n",
      "9    21\n",
      "Name: runs, dtype: int64\n",
      "movie\n",
      "Hum Tumhare Hain Sanam    Shah Rukh Khan\n",
      "Bombairiya                  Radhika Apte\n",
      "Name: lead, dtype: object\n"
     ]
    }
   ],
   "source": [
    "# fancy indexing\n",
    "print(vk[[1, 5, 7, 9]])\n",
    "\n",
    "print(movies[['Hum Tumhare Hain Sanam', 'Bombairiya']])"
   ]
  },
  {
   "cell_type": "markdown",
   "id": "c20175c5",
   "metadata": {},
   "source": [
    "## Series editing\n"
   ]
  },
  {
   "cell_type": "code",
   "execution_count": 13,
   "id": "f603172f",
   "metadata": {},
   "outputs": [
    {
     "name": "stdout",
     "output_type": "stream",
     "text": [
      "0        6\n",
      "1      133\n",
      "2       40\n",
      "3       43\n",
      "4        7\n",
      "      ... \n",
      "361    226\n",
      "362    155\n",
      "363    144\n",
      "364    172\n",
      "365    700\n",
      "Name: Subscribers gained, Length: 366, dtype: int64\n"
     ]
    }
   ],
   "source": [
    "subs[1] = 133\n",
    "subs[365] = 700  # even 365 cilo na eta add kore dilo\n",
    "subs[[0, 4, 6]] = [6, 7, 9]   # fancy indexing\n",
    "print(subs)\n"
   ]
  }
 ],
 "metadata": {
  "kernelspec": {
   "display_name": "base",
   "language": "python",
   "name": "python3"
  },
  "language_info": {
   "codemirror_mode": {
    "name": "ipython",
    "version": 3
   },
   "file_extension": ".py",
   "mimetype": "text/x-python",
   "name": "python",
   "nbconvert_exporter": "python",
   "pygments_lexer": "ipython3",
   "version": "3.12.3"
  }
 },
 "nbformat": 4,
 "nbformat_minor": 5
}
