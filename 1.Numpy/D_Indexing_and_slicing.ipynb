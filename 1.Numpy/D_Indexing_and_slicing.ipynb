{
 "cells": [
  {
   "cell_type": "markdown",
   "id": "eabac0a6",
   "metadata": {},
   "source": [
    "### Indexing and slicing "
   ]
  },
  {
   "cell_type": "code",
   "execution_count": 11,
   "id": "5ba6daf0",
   "metadata": {},
   "outputs": [],
   "source": [
    "import numpy as np"
   ]
  },
  {
   "cell_type": "code",
   "execution_count": 12,
   "id": "f4483fef",
   "metadata": {},
   "outputs": [
    {
     "name": "stdout",
     "output_type": "stream",
     "text": [
      "[0 1 2 3 4 5 6 7 8 9]\n",
      "[[ 0  1  2  3]\n",
      " [ 4  5  6  7]\n",
      " [ 8  9 10 11]\n",
      " [12 13 14 15]]\n",
      "[[[ 0  1  2]\n",
      "  [ 3  4  5]\n",
      "  [ 6  7  8]]\n",
      "\n",
      " [[ 9 10 11]\n",
      "  [12 13 14]\n",
      "  [15 16 17]]\n",
      "\n",
      " [[18 19 20]\n",
      "  [21 22 23]\n",
      "  [24 25 26]]]\n"
     ]
    }
   ],
   "source": [
    "a1 = np.arange(10)\n",
    "a2 = np.arange(16).reshape(4,4)\n",
    "a3 = np.arange(27).reshape(3,3,3)\n",
    "\n",
    "print(a1)\n",
    "print(a2)\n",
    "print(a3)"
   ]
  },
  {
   "cell_type": "code",
   "execution_count": 13,
   "id": "7c0d5fa0",
   "metadata": {},
   "outputs": [
    {
     "name": "stdout",
     "output_type": "stream",
     "text": [
      "2 [4 5 6 7]\n",
      "6\n",
      "10\n"
     ]
    }
   ],
   "source": [
    "# index element\n",
    "print(a1[2], a2[-3])\n",
    "print(a2[1,2])\n",
    "print(a3[1,0,1])   #koto number 2D, shei 2D te koto number 1D, 1D er kotoo index"
   ]
  },
  {
   "cell_type": "code",
   "execution_count": 14,
   "id": "27b720d1",
   "metadata": {},
   "outputs": [
    {
     "name": "stdout",
     "output_type": "stream",
     "text": [
      "[0 1 2 3 4 5 6 7 8 9]\n",
      "[0 1 2 3]\n",
      "[12 13 14]\n",
      "[[ 9 10 11]\n",
      " [12 13 14]\n",
      " [15 16 17]]\n"
     ]
    }
   ],
   "source": [
    "# row / col wise\n",
    "print(a1[:])\n",
    "print(a2[0,:])\n",
    "print(a3[1,1,:])\n",
    "print(a3[1,:,:])"
   ]
  },
  {
   "cell_type": "code",
   "execution_count": 15,
   "id": "74ddee07",
   "metadata": {},
   "outputs": [
    {
     "name": "stdout",
     "output_type": "stream",
     "text": [
      "[[ 5  6]\n",
      " [ 9 10]]\n",
      "[[ 1  3]\n",
      " [ 9 11]]\n",
      "[[[ 0  1  2]\n",
      "  [ 3  4  5]\n",
      "  [ 6  7  8]]\n",
      "\n",
      " [[18 19 20]\n",
      "  [21 22 23]\n",
      "  [24 25 26]]]\n",
      "[3 4 5]\n",
      "[10 13 16]\n",
      "[[22 23]\n",
      " [25 26]]\n"
     ]
    }
   ],
   "source": [
    "print(a2[1:3, 1:3])\n",
    "print(a2[::2, 1::2])\n",
    "\n",
    "print(a3[::2])\n",
    "print(a3[0, 1])\n",
    "print(a3[1,:,1])\n",
    "print(a3[2, 1:3, 1:3])\n"
   ]
  },
  {
   "cell_type": "markdown",
   "id": "e18f081e",
   "metadata": {},
   "source": [
    "#### Advanced indexing"
   ]
  },
  {
   "cell_type": "code",
   "execution_count": 24,
   "id": "bcfb641c",
   "metadata": {},
   "outputs": [
    {
     "data": {
      "text/plain": [
       "array([[ 1,  2,  3],\n",
       "       [ 5,  6,  7],\n",
       "       [ 9, 10, 11],\n",
       "       [13, 14, 15]])"
      ]
     },
     "execution_count": 24,
     "metadata": {},
     "output_type": "execute_result"
    }
   ],
   "source": [
    "# fancy indexing\n",
    "a2\n",
    "a2[[1,2,3]]    # 1,2,3 no row show korbe\n",
    "a2[:, [1,2,3]]   # 1,2,3 no col show korbe"
   ]
  },
  {
   "cell_type": "code",
   "execution_count": 27,
   "id": "72add98f",
   "metadata": {},
   "outputs": [
    {
     "data": {
      "text/plain": [
       "array([16, 17, 18, 19, 20, 21, 22, 23, 24, 25, 26])"
      ]
     },
     "execution_count": 27,
     "metadata": {},
     "output_type": "execute_result"
    }
   ],
   "source": [
    "# boolean indexing\n",
    "a3[a3>15]  # a3 er moddhe joto value >15 shegula list akare dibe"
   ]
  },
  {
   "cell_type": "code",
   "execution_count": 29,
   "id": "863f851f",
   "metadata": {},
   "outputs": [
    {
     "data": {
      "text/plain": [
       "array([ 6,  8, 10, 12, 14])"
      ]
     },
     "execution_count": 29,
     "metadata": {},
     "output_type": "execute_result"
    }
   ],
   "source": [
    "a2[(a2>5) & (a2%2==0)]"
   ]
  }
 ],
 "metadata": {
  "kernelspec": {
   "display_name": "base",
   "language": "python",
   "name": "python3"
  },
  "language_info": {
   "codemirror_mode": {
    "name": "ipython",
    "version": 3
   },
   "file_extension": ".py",
   "mimetype": "text/x-python",
   "name": "python",
   "nbconvert_exporter": "python",
   "pygments_lexer": "ipython3",
   "version": "3.12.3"
  }
 },
 "nbformat": 4,
 "nbformat_minor": 5
}
